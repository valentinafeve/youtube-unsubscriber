{
 "cells": [
  {
   "cell_type": "code",
   "execution_count": 2,
   "metadata": {},
   "outputs": [],
   "source": [
    "from selenium import webdriver\n",
    "from selenium.common.exceptions import (NoSuchElementException,\n",
    "                                        StaleElementReferenceException)\n",
    "from selenium.webdriver.chrome.options import Options\n",
    "from selenium.webdriver.firefox.options import Options as FirefoxOptions\n",
    "\n",
    "from math import inf\n",
    "import pandas as pd"
   ]
  },
  {
   "cell_type": "code",
   "execution_count": 8,
   "metadata": {},
   "outputs": [],
   "source": [
    "firefox_options = FirefoxOptions()\n",
    "web_driver = webdriver.Firefox(options=firefox_options)"
   ]
  },
  {
   "cell_type": "code",
   "execution_count": 9,
   "metadata": {},
   "outputs": [],
   "source": [
    "web_driver.get('https://www.youtube.com/feed/channels')"
   ]
  },
  {
   "cell_type": "code",
   "execution_count": 2,
   "metadata": {},
   "outputs": [
    {
     "ename": "ModuleNotFoundError",
     "evalue": "No module named 'undetected_chromedriver.v2'",
     "output_type": "error",
     "traceback": [
      "\u001b[0;31m---------------------------------------------------------------------------\u001b[0m",
      "\u001b[0;31mModuleNotFoundError\u001b[0m                       Traceback (most recent call last)",
      "Cell \u001b[0;32mIn[2], line 1\u001b[0m\n\u001b[0;32m----> 1\u001b[0m \u001b[38;5;28;01mimport\u001b[39;00m \u001b[38;5;21;01mundetected_chromedriver\u001b[39;00m\u001b[38;5;21;01m.\u001b[39;00m\u001b[38;5;21;01mv2\u001b[39;00m \u001b[38;5;28;01mas\u001b[39;00m \u001b[38;5;21;01muc\u001b[39;00m\n\u001b[1;32m      2\u001b[0m \u001b[38;5;28;01mfrom\u001b[39;00m \u001b[38;5;21;01mtime\u001b[39;00m \u001b[38;5;28;01mimport\u001b[39;00m sleep\n\u001b[1;32m      4\u001b[0m username \u001b[38;5;241m=\u001b[39m \u001b[38;5;124m'\u001b[39m\u001b[38;5;124mexample@gmail.com\u001b[39m\u001b[38;5;124m'\u001b[39m\n",
      "\u001b[0;31mModuleNotFoundError\u001b[0m: No module named 'undetected_chromedriver.v2'"
     ]
    }
   ],
   "source": [
    "import undetected_chromedriver.v2 as uc\n",
    "from time import sleep\n",
    "\n",
    "username = 'example@gmail.com'\n",
    "password ='password'\n",
    "\n",
    "driver = uc.Chrome()\n",
    "\n",
    "driver.delete_all_cookies()\n",
    "\n",
    "driver.get('https://accounts.google.com/ServiceLogin')\n",
    "sleep(2)\n",
    "\n",
    "driver.find_element_by_xpath('//input[@type=\"email\"]').send_keys(username)\n",
    "driver.find_element_by_xpath('//*[@id=\"identifierNext\"]').click()\n",
    "sleep(2)\n",
    "\n",
    "driver.find_element_by_xpath('//input[@type=\"password\"]').send_keys(password)\n",
    "driver.find_element_by_xpath('//*[@id=\"passwordNext\"]').click()\n",
    "sleep(2)\n",
    "\n",
    "driver.get('https://gmail.com')\n",
    "sleep(2)"
   ]
  },
  {
   "cell_type": "code",
   "execution_count": null,
   "metadata": {},
   "outputs": [],
   "source": []
  }
 ],
 "metadata": {
  "kernelspec": {
   "display_name": "ai",
   "language": "python",
   "name": "python3"
  },
  "language_info": {
   "codemirror_mode": {
    "name": "ipython",
    "version": 3
   },
   "file_extension": ".py",
   "mimetype": "text/x-python",
   "name": "python",
   "nbconvert_exporter": "python",
   "pygments_lexer": "ipython3",
   "version": "3.11.9"
  }
 },
 "nbformat": 4,
 "nbformat_minor": 2
}
